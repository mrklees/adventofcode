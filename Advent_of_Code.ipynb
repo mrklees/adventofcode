{
  "nbformat": 4,
  "nbformat_minor": 0,
  "metadata": {
    "colab": {
      "name": "Advent of Code.ipynb",
      "version": "0.3.2",
      "provenance": [],
      "include_colab_link": true
    },
    "kernelspec": {
      "name": "python3",
      "display_name": "Python 3"
    }
  },
  "cells": [
    {
      "cell_type": "markdown",
      "metadata": {
        "id": "view-in-github",
        "colab_type": "text"
      },
      "source": [
        "<a href=\"https://colab.research.google.com/github/mrklees/adventofcode/blob/master/Advent_of_Code.ipynb\" target=\"_parent\"><img src=\"https://colab.research.google.com/assets/colab-badge.svg\" alt=\"Open In Colab\"/></a>"
      ]
    },
    {
      "metadata": {
        "id": "dw3wFF3ihP6p",
        "colab_type": "text"
      },
      "cell_type": "markdown",
      "source": [
        "# Advent of Code\n",
        "\n",
        "[A code challenge a day in December.](https://adventofcode.com) All data stored on Github. Run the following three cells to refresh the repo locally. "
      ]
    },
    {
      "metadata": {
        "id": "qd4tkPaqlVoZ",
        "colab_type": "code",
        "outputId": "8dde92fa-c09b-48fb-ab42-9c78c063a445",
        "colab": {
          "base_uri": "https://localhost:8080/",
          "height": 35
        }
      },
      "cell_type": "code",
      "source": [
        "cd /content/adventofcode"
      ],
      "execution_count": 0,
      "outputs": [
        {
          "output_type": "stream",
          "text": [
            "/content/adventofcode\n"
          ],
          "name": "stdout"
        }
      ]
    },
    {
      "metadata": {
        "id": "_GZkuwOBha8E",
        "colab_type": "code",
        "outputId": "ae505037-2662-4154-e321-87462ca1e0bb",
        "colab": {
          "base_uri": "https://localhost:8080/",
          "height": 237
        }
      },
      "cell_type": "code",
      "source": [
        "! git pull"
      ],
      "execution_count": 0,
      "outputs": [
        {
          "output_type": "stream",
          "text": [
            "remote: Enumerating objects: 5, done.\u001b[K\n",
            "remote: Counting objects:  20% (1/5)   \u001b[K\rremote: Counting objects:  40% (2/5)   \u001b[K\rremote: Counting objects:  60% (3/5)   \u001b[K\rremote: Counting objects:  80% (4/5)   \u001b[K\rremote: Counting objects: 100% (5/5)   \u001b[K\rremote: Counting objects: 100% (5/5), done.\u001b[K\n",
            "remote: Compressing objects:  33% (1/3)   \u001b[K\rremote: Compressing objects:  66% (2/3)   \u001b[K\rremote: Compressing objects: 100% (3/3)   \u001b[K\rremote: Compressing objects: 100% (3/3), done.\u001b[K\n",
            "remote: Total 4 (delta 0), reused 4 (delta 0), pack-reused 0\u001b[K\n",
            "Unpacking objects:  25% (1/4)   \rUnpacking objects:  50% (2/4)   \rUnpacking objects:  75% (3/4)   \rUnpacking objects: 100% (4/4)   \rUnpacking objects: 100% (4/4), done.\n",
            "From https://github.com/mrklees/adventofcode\n",
            "   5eb5ef3..e20905b  master     -> origin/master\n",
            "Updating 5eb5ef3..e20905b\n",
            "Fast-forward\n",
            " Day 2/input.txt | 250 \u001b[32m++++++++++++++++++++++++++++++++++++++++++++++++++++++++\u001b[m\n",
            " 1 file changed, 250 insertions(+)\n",
            " create mode 100644 Day 2/input.txt\n"
          ],
          "name": "stdout"
        }
      ]
    },
    {
      "metadata": {
        "id": "GbCg2uSmlWfh",
        "colab_type": "code",
        "outputId": "f46f699e-493c-4e7b-f95e-b56470316f17",
        "colab": {
          "base_uri": "https://localhost:8080/",
          "height": 35
        }
      },
      "cell_type": "code",
      "source": [
        "cd /content"
      ],
      "execution_count": 0,
      "outputs": [
        {
          "output_type": "stream",
          "text": [
            "/content\n"
          ],
          "name": "stdout"
        }
      ]
    },
    {
      "metadata": {
        "id": "v6Hzfn5DjZz4",
        "colab_type": "text"
      },
      "cell_type": "markdown",
      "source": [
        "## Day 1\n"
      ]
    },
    {
      "metadata": {
        "id": "zG39pr3J8CyV",
        "colab_type": "text"
      },
      "cell_type": "markdown",
      "source": [
        "### Part 1\n",
        "\n",
        "We are given a sequence of positive and negative numbers, such as +1, +1, -1, and are essentially asked to find the sum of this series.  Perhaps part of the challenge of this is parsing the values?  In this case though pandas and numpy make quick work of it.  We simple read in the sting of values with pandas, convert to a numpy array, and then sum the array.  This gives us 536 which is in fact the correct answer. "
      ]
    },
    {
      "metadata": {
        "id": "0mEgbp2WiDaa",
        "colab_type": "code",
        "colab": {}
      },
      "cell_type": "code",
      "source": [
        "import pandas as pd\n",
        "\n",
        "data = pd.read_csv(\"adventofcode/Day 1/input.txt\", header=None).values"
      ],
      "execution_count": 0,
      "outputs": []
    },
    {
      "metadata": {
        "id": "FosufMthjy8-",
        "colab_type": "code",
        "outputId": "5d95b831-6953-4933-df5d-8aa5b55b2c4d",
        "colab": {
          "base_uri": "https://localhost:8080/",
          "height": 35
        }
      },
      "cell_type": "code",
      "source": [
        "data.sum()"
      ],
      "execution_count": 0,
      "outputs": [
        {
          "output_type": "execute_result",
          "data": {
            "text/plain": [
              "536"
            ]
          },
          "metadata": {
            "tags": []
          },
          "execution_count": 136
        }
      ]
    },
    {
      "metadata": {
        "id": "3zpT5aLP7xT7",
        "colab_type": "text"
      },
      "cell_type": "markdown",
      "source": [
        "###  Part 2\n"
      ]
    },
    {
      "metadata": {
        "id": "j9ElWAw571X5",
        "colab_type": "code",
        "outputId": "29fc12e5-24e9-4b92-b38a-34ae9d74dc3c",
        "colab": {
          "base_uri": "https://localhost:8080/",
          "height": 35
        }
      },
      "cell_type": "code",
      "source": [
        "n_repeats = 500\n",
        "running_freq = np.cumsum(np.vstack([data]*n_repeats))\n",
        "freqs = {}\n",
        "searching = True\n",
        "for freq in running_freq:\n",
        "  freqs[freq] = freqs.get(freq, 0) + 1\n",
        "  if freqs[freq] == 2:\n",
        "    print(freq)\n",
        "    break"
      ],
      "execution_count": 0,
      "outputs": [
        {
          "output_type": "stream",
          "text": [
            "75108\n"
          ],
          "name": "stdout"
        }
      ]
    },
    {
      "metadata": {
        "id": "u9B2UnNznVwe",
        "colab_type": "text"
      },
      "cell_type": "markdown",
      "source": [
        "## Day 2"
      ]
    },
    {
      "metadata": {
        "id": "Alh6kvdI0Mej",
        "colab_type": "text"
      },
      "cell_type": "markdown",
      "source": [
        "### Part 1\n",
        "\n",
        "We are given a series of strings of the form \"aabbbccdddd\" and our job is to process the data and produce a checksum via the follow algorithm.  We will process each string and identiy it contains **exactly 2** or **exactly 3** of any character.  The check sum is then the product of the respective sums of the number of series with exactly two and exactly three. "
      ]
    },
    {
      "metadata": {
        "id": "iWq87M_ok7r1",
        "colab_type": "code",
        "colab": {}
      },
      "cell_type": "code",
      "source": [
        "import pandas as pd\n",
        "\n",
        "data = pd.read_csv(\"adventofcode/Day 2/input.txt\", header=None)\n",
        "data.columns = ['strings']\n",
        "sample = data['strings'][0]"
      ],
      "execution_count": 0,
      "outputs": []
    },
    {
      "metadata": {
        "id": "WcOFHHUy5p8X",
        "colab_type": "code",
        "outputId": "e2849c53-b47e-4a37-a275-187f07ac2ede",
        "colab": {
          "base_uri": "https://localhost:8080/",
          "height": 35
        }
      },
      "cell_type": "code",
      "source": [
        "\n",
        "data.strings.count()"
      ],
      "execution_count": 0,
      "outputs": [
        {
          "output_type": "execute_result",
          "data": {
            "text/plain": [
              "250"
            ]
          },
          "metadata": {
            "tags": []
          },
          "execution_count": 178
        }
      ]
    },
    {
      "metadata": {
        "id": "HLdHG23lokHh",
        "colab_type": "code",
        "colab": {}
      },
      "cell_type": "code",
      "source": [
        "def get_char_count(string):\n",
        "  char_count = {}\n",
        "  for char in string:\n",
        "    char_count[char] = char_count.get(char, 0) + 1\n",
        "  return char_count\n",
        "\n",
        "def check_char_count(char_count, target):\n",
        "  for char in char_count:\n",
        "    if char_count[char] == target: return 1\n",
        "  return 0\n",
        "\n",
        "def process_string(string, target):\n",
        "  char_count = get_char_count(string)\n",
        "  meets_target = check_char_count(char_count, target=target)\n",
        "  return meets_target"
      ],
      "execution_count": 0,
      "outputs": []
    },
    {
      "metadata": {
        "id": "GYRGQ3CMokzR",
        "colab_type": "code",
        "outputId": "87830ea9-f918-49f2-de14-f30a78158e06",
        "colab": {
          "base_uri": "https://localhost:8080/",
          "height": 35
        }
      },
      "cell_type": "code",
      "source": [
        "data['ExactlyTwo'] = [process_string(string, 2)for string in data['strings']]\n",
        "data['ExactlyThree'] = [process_string(string, 3)for string in data['strings']]\n",
        "\n",
        "data.ExactlyTwo.sum() * data.ExactlyThree.sum()"
      ],
      "execution_count": 0,
      "outputs": [
        {
          "output_type": "execute_result",
          "data": {
            "text/plain": [
              "7163"
            ]
          },
          "metadata": {
            "tags": []
          },
          "execution_count": 88
        }
      ]
    },
    {
      "metadata": {
        "id": "6ovgQwQr0SM5",
        "colab_type": "text"
      },
      "cell_type": "markdown",
      "source": [
        "### Part 2\n",
        "\n",
        "We now have the task of searching our list to find two strings which differ by only one character.  To optimize our search, we should rank possible matches using the Levenshtein distance, which we'll calculate for every pair."
      ]
    },
    {
      "metadata": {
        "id": "RvgEGAcI1qUU",
        "colab_type": "code",
        "outputId": "c2d2375d-be97-4313-9093-28cbd82bbc65",
        "colab": {
          "base_uri": "https://localhost:8080/",
          "height": 219
        }
      },
      "cell_type": "code",
      "source": [
        "! pip install python-Levenshtein\n",
        "! pip install fuzzywuzzy"
      ],
      "execution_count": 0,
      "outputs": [
        {
          "output_type": "stream",
          "text": [
            "Collecting python-Levenshtein\n",
            "\u001b[?25l  Downloading https://files.pythonhosted.org/packages/42/a9/d1785c85ebf9b7dfacd08938dd028209c34a0ea3b1bcdb895208bd40a67d/python-Levenshtein-0.12.0.tar.gz (48kB)\n",
            "\u001b[K    100% |████████████████████████████████| 51kB 1.7MB/s \n",
            "\u001b[?25hRequirement already satisfied: setuptools in /usr/local/lib/python3.6/dist-packages (from python-Levenshtein) (40.6.2)\n",
            "Building wheels for collected packages: python-Levenshtein\n",
            "  Running setup.py bdist_wheel for python-Levenshtein ... \u001b[?25l-\b \b\\\b \b|\b \b/\b \bdone\n",
            "\u001b[?25h  Stored in directory: /root/.cache/pip/wheels/de/c2/93/660fd5f7559049268ad2dc6d81c4e39e9e36518766eaf7e342\n",
            "Successfully built python-Levenshtein\n",
            "Installing collected packages: python-Levenshtein\n",
            "Successfully installed python-Levenshtein-0.12.0\n",
            "Requirement already satisfied: fuzzywuzzy in /usr/local/lib/python3.6/dist-packages (0.17.0)\n"
          ],
          "name": "stdout"
        }
      ]
    },
    {
      "metadata": {
        "id": "nTwc2C-v19pM",
        "colab_type": "code",
        "colab": {}
      },
      "cell_type": "code",
      "source": [
        "from fuzzywuzzy import fuzz\n",
        "\n",
        "fuzz.ratio(sample, sample)\n",
        "\n",
        "def apply_fuzz(a, b):\n",
        "  return fuzz.ratio(a, b)\n",
        "\n",
        "vfuzz = np.vectorize(apply_fuzz)"
      ],
      "execution_count": 0,
      "outputs": []
    },
    {
      "metadata": {
        "id": "sc1uNdZy1_lK",
        "colab_type": "code",
        "outputId": "24a63549-e40a-4ebd-af85-2f7ee8b4b6d9",
        "colab": {
          "base_uri": "https://localhost:8080/",
          "height": 35
        }
      },
      "cell_type": "code",
      "source": [
        "%%timeit\n",
        "import numpy as np\n",
        "\n",
        "combinations[\"matchscore\"] = vfuzz(combinations.str1.values, combinations.str2.values)\n",
        "possible_row = combinations[combinations.matchscore != 100].sort_values(\"matchscore\", ascending=False).iloc[0, :]"
      ],
      "execution_count": 0,
      "outputs": [
        {
          "output_type": "stream",
          "text": [
            "1 loop, best of 3: 6.53 s per loop\n"
          ],
          "name": "stdout"
        }
      ]
    },
    {
      "metadata": {
        "id": "hIKzRTtc27XN",
        "colab_type": "code",
        "colab": {}
      },
      "cell_type": "code",
      "source": [
        "possible_row = combinations[combinations.matchscore != 100].sort_values(\"matchscore\", ascending=False).iloc[0, :]"
      ],
      "execution_count": 0,
      "outputs": []
    },
    {
      "metadata": {
        "id": "aV7ZeCT-3FRt",
        "colab_type": "code",
        "outputId": "41a72819-c2b3-4698-ac34-12843bff4bd5",
        "colab": {
          "base_uri": "https://localhost:8080/",
          "height": 35
        }
      },
      "cell_type": "code",
      "source": [
        "possible_row.str1, possible_row.str2"
      ],
      "execution_count": 0,
      "outputs": [
        {
          "output_type": "execute_result",
          "data": {
            "text/plain": [
              "('ighfbbyijnoumxjlxevacpwqtr', 'ighfbsyijnoumxjlxevacpwqtr')"
            ]
          },
          "metadata": {
            "tags": []
          },
          "execution_count": 129
        }
      ]
    },
    {
      "metadata": {
        "id": "2snVsII9MOho",
        "colab_type": "text"
      },
      "cell_type": "markdown",
      "source": [
        "## Day 3"
      ]
    },
    {
      "metadata": {
        "id": "zX63ZhdNMShW",
        "colab_type": "text"
      },
      "cell_type": "markdown",
      "source": [
        "### Part 1\n",
        "\n",
        "In this problem we have a large 2d array (at least 1000 x 1000), and we are then given a series of lines which "
      ]
    },
    {
      "metadata": {
        "id": "GrU2CdsmMRtf",
        "colab_type": "code",
        "colab": {}
      },
      "cell_type": "code",
      "source": [
        ""
      ],
      "execution_count": 0,
      "outputs": []
    }
  ]
}